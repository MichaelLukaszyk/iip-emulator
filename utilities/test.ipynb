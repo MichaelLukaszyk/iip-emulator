{
 "cells": [
  {
   "cell_type": "code",
   "execution_count": 1,
   "id": "34c5eb4e",
   "metadata": {},
   "outputs": [
    {
     "data": {
      "application/vnd.jupyter.widget-view+json": {
       "model_id": "d8ad730676f1494ea02e524b939e6b03",
       "version_major": 2,
       "version_minor": 0
      },
      "text/plain": [
       "Iterations:          0/? [00:00<?, ?it/s]"
      ]
     },
     "metadata": {},
     "output_type": "display_data"
    },
    {
     "data": {
      "application/vnd.jupyter.widget-view+json": {
       "model_id": "3e863392265c4f91aca4bc727f91a03c",
       "version_major": 2,
       "version_minor": 0
      },
      "text/plain": [
       "Packets:             0/? [00:00<?, ?it/s]"
      ]
     },
     "metadata": {},
     "output_type": "display_data"
    },
    {
     "data": {
      "text/html": [
       "        <script type=\"text/javascript\">\n",
       "        window.PlotlyConfig = {MathJaxConfig: 'local'};\n",
       "        if (window.MathJax && window.MathJax.Hub && window.MathJax.Hub.Config) {window.MathJax.Hub.Config({SVG: {font: \"STIX-Web\"}});}\n",
       "        if (typeof require !== 'undefined') {\n",
       "        require.undef(\"plotly\");\n",
       "        requirejs.config({\n",
       "            paths: {\n",
       "                'plotly': ['https://cdn.plot.ly/plotly-2.32.0.min']\n",
       "            }\n",
       "        });\n",
       "        require(['plotly'], function(Plotly) {\n",
       "            window._Plotly = Plotly;\n",
       "        });\n",
       "        }\n",
       "        </script>\n",
       "        "
      ]
     },
     "metadata": {},
     "output_type": "display_data"
    },
    {
     "data": {
      "text/html": [
       "<script src=\"https://cdnjs.cloudflare.com/ajax/libs/mathjax/2.7.1/MathJax.js?config=TeX-MML-AM_SVG\"></script>"
      ],
      "text/plain": [
       "<IPython.core.display.HTML object>"
      ]
     },
     "metadata": {},
     "output_type": "display_data"
    },
    {
     "name": "stderr",
     "output_type": "stream",
     "text": [
      "Duplicate indices in level_idxs2line_idx. Dropping duplicates. This is an issue with the atomic data & carsus. Once fixed upstream, this warning will be removed. This will raise an error in the future instead. See https://github.com/tardis-sn/carsus/issues/384\n",
      "Zeta_data missing - replaced with 1s. Missing ions: [(26, 27), (27, 28), (28, 29)]\n",
      "Duplicate indices in level_idxs2line_idx. Dropping duplicates. This is an issue with the atomic data & carsus. Once fixed upstream, this warning will be removed. This will raise an error in the future instead. See https://github.com/tardis-sn/carsus/issues/384\n",
      "Zeta_data missing - replaced with 1s. Missing ions: [(26, 27), (27, 28), (28, 29)]\n",
      "/home/mikel/GitHub/tardis/tardis/transport/montecarlo/montecarlo_main_loop.py:123: NumbaTypeSafetyWarning:\n",
      "\n",
      "\u001b[1m\u001b[1m\u001b[1munsafe cast from uint64 to int64. Precision may be lost.\u001b[0m\u001b[0m\u001b[0m\n",
      "\n"
     ]
    },
    {
     "data": {
      "application/vnd.jupyter.widget-view+json": {
       "model_id": "41eb8167255f4c43966dda3ba7c7ecae",
       "version_major": 2,
       "version_minor": 0
      },
      "text/plain": [
       "TqdmHBox(children=(HTML(value='Iterations:', layout=Layout(width='6%')), FloatProgress(value=0.0, layout=Layou…"
      ]
     },
     "metadata": {},
     "output_type": "display_data"
    },
    {
     "data": {
      "application/vnd.jupyter.widget-view+json": {
       "model_id": "6b0dcde8adb2477db485f13f70999cc5",
       "version_major": 2,
       "version_minor": 0
      },
      "text/plain": [
       "TqdmHBox(children=(HTML(value='Packets:\\u2007\\u2007\\u2007', layout=Layout(width='6%')), FloatProgress(value=0.…"
      ]
     },
     "metadata": {},
     "output_type": "display_data"
    }
   ],
   "source": [
    "# This should be guarenteed to work, took about 7 mins for 10 shells and 4.0e+4 packets\n",
    "import sys\n",
    "sys.path.append('/home/mikel/GitHub/iip-emulator')\n",
    "\n",
    "from param_space.run_tardis import run_tardis\n",
    "from param_space.functions import write_data\n",
    "import astropy.units as u\n",
    "\n",
    "params = {\n",
    "    \"log_lsun\": 9.498,\n",
    "    \"t_exp\": 13 * u.day,\n",
    "    \"t_inner\": 13800 * u.K,\n",
    "    \"v_start\": 6200 * u.km/u.s\n",
    "}\n",
    "run_tardis(params, output_name='test')\n",
    "write_data(params, output_name='test')"
   ]
  }
 ],
 "metadata": {
  "kernelspec": {
   "display_name": "tardis",
   "language": "python",
   "name": "python3"
  },
  "language_info": {
   "codemirror_mode": {
    "name": "ipython",
    "version": 3
   },
   "file_extension": ".py",
   "mimetype": "text/x-python",
   "name": "python",
   "nbconvert_exporter": "python",
   "pygments_lexer": "ipython3",
   "version": "3.13.3"
  }
 },
 "nbformat": 4,
 "nbformat_minor": 5
}
