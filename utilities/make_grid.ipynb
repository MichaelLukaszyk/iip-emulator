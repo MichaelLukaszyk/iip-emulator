{
 "cells": [
  {
   "cell_type": "code",
   "execution_count": null,
   "id": "b599acf8",
   "metadata": {},
   "outputs": [],
   "source": [
    "import pandas as pd\n",
    "import numpy as np\n",
    "import scipy.stats\n",
    "\n",
    "# Obtain samples\n",
    "output_name = 'grid.csv'\n",
    "param_names = ['log_lsun', 't_exp', 'v_start', 't_inner']\n",
    "limits = [(8, 10.5), (11, 15), (5800, 6600), (11800, 15800)]\n",
    "n = 5000\n",
    "\n",
    "distribs = []\n",
    "for min, max in limits:\n",
    "    distribs.append(scipy.stats.uniform(min, max - min))\n",
    "\n",
    "def my_prior_transform(cube):\n",
    "    params = np.empty_like(cube)\n",
    "    params[0] = distribs[0].ppf(cube[0])\n",
    "    params[1] = distribs[1].ppf(cube[1])\n",
    "    params[2] = distribs[2].ppf(cube[2])\n",
    "    params[3] = distribs[3].ppf(cube[3])\n",
    "    return params\n",
    "\n",
    "# Create DataFrame\n",
    "data = {}\n",
    "for param in param_names:\n",
    "    data[param] = []\n",
    "    data[param + '_u'] = []\n",
    "\n",
    "for i in range(n):\n",
    "    cube = np.random.rand(len(param_names))\n",
    "    params = my_prior_transform(cube)\n",
    "    for i, value in enumerate(params):\n",
    "        param = param_names[i]\n",
    "        data[param].append(value)\n",
    "        data[param + '_u'].append(cube[i])\n",
    "\n",
    "df = pd.DataFrame(data)\n",
    "df.index.name = 'index'\n",
    "df.to_csv(output_name)"
   ]
  }
 ],
 "metadata": {
  "kernelspec": {
   "display_name": "tardis",
   "language": "python",
   "name": "python3"
  },
  "language_info": {
   "codemirror_mode": {
    "name": "ipython",
    "version": 3
   },
   "file_extension": ".py",
   "mimetype": "text/x-python",
   "name": "python",
   "nbconvert_exporter": "python",
   "pygments_lexer": "ipython3",
   "version": "3.13.3"
  }
 },
 "nbformat": 4,
 "nbformat_minor": 5
}
