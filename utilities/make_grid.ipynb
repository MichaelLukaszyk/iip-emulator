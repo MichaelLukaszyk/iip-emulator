{
 "cells": [
  {
   "cell_type": "code",
   "execution_count": null,
   "id": "b599acf8",
   "metadata": {},
   "outputs": [],
   "source": [
    "import pandas as pd\n",
    "import numpy as np\n",
    "import scipy.stats\n",
    "\n",
    "# Obtain samples\n",
    "param_names = ['log_lsun', 't_exp', 't_inner', 'v_start']\n",
    "limits = [(8, 10.5), (11, 15), (11800, 15800), (5800, 6600)]\n",
    "n = 5000\n",
    "\n",
    "distribs = []\n",
    "for min, max in limits:\n",
    "    distribs.append(scipy.stats.uniform(min, max - min))\n",
    "\n",
    "def my_prior_transform(cube):\n",
    "    params = [distribs[i].ppf(cube[i]) for i in range(len(cube))]\n",
    "    return params\n",
    "\n",
    "# Create DataFrame\n",
    "data = {}\n",
    "for param in param_names:\n",
    "    data[param] = []\n",
    "    data[param + '_u'] = []\n",
    "\n",
    "for i in range(n):\n",
    "    cube = np.random.rand(len(param_names))\n",
    "    params = my_prior_transform(cube)\n",
    "    for i, value in enumerate(params):\n",
    "        param = param_names[i]\n",
    "        data[param].append(value)\n",
    "        data[param + '_u'].append(cube[i])\n",
    "\n",
    "df = pd.DataFrame(data)\n",
    "df.index.name = 'index'\n",
    "df.to_csv('grid.csv')"
   ]
  },
  {
   "cell_type": "code",
   "execution_count": 10,
   "id": "48d85273",
   "metadata": {},
   "outputs": [],
   "source": [
    "import pandas as pd\n",
    "import numpy as np\n",
    "\n",
    "# Seed samples for noise variation tests\n",
    "n = 1000\n",
    "seeds = np.random.randint(low=10000000, high=100000000, size=n)\n",
    "virtual_packets = [3]*int(n/2) + [6]*int(n/2)\n",
    "\n",
    "df = pd.DataFrame({'seed': seeds, 'virtual_packets': virtual_packets})\n",
    "df.index.name = 'index'\n",
    "df.to_csv('grid.csv')\n"
   ]
  }
 ],
 "metadata": {
  "kernelspec": {
   "display_name": "base",
   "language": "python",
   "name": "python3"
  },
  "language_info": {
   "codemirror_mode": {
    "name": "ipython",
    "version": 3
   },
   "file_extension": ".py",
   "mimetype": "text/x-python",
   "name": "python",
   "nbconvert_exporter": "python",
   "pygments_lexer": "ipython3",
   "version": "3.12.4"
  }
 },
 "nbformat": 4,
 "nbformat_minor": 5
}
