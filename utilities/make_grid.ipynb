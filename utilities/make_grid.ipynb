{
 "cells": [
  {
   "cell_type": "code",
   "execution_count": 3,
   "id": "b599acf8",
   "metadata": {},
   "outputs": [],
   "source": [
    "import pandas as pd\n",
    "import numpy as np\n",
    "import scipy.stats\n",
    "\n",
    "# Obtain samples\n",
    "output_name = '2020jfo_grid.csv'\n",
    "param_names = ['log_lsun', 't_exp', 'v_start', 't_inner']\n",
    "log_lsun = scipy.stats.uniform(8, 2.5)\n",
    "t_exp = scipy.stats.uniform(11, 4)\n",
    "v_start = scipy.stats.uniform(6200 - 400, 800)\n",
    "t_inner = scipy.stats.uniform(13800 - 2000, 4000)\n",
    "n = 500\n",
    "\n",
    "def my_prior_transform(cube):\n",
    "    params = np.empty_like(cube)\n",
    "    params[0] = log_lsun.ppf(cube[0])\n",
    "    params[1] = t_exp.ppf(cube[1])\n",
    "    params[2] = v_start.ppf(cube[2])\n",
    "    params[3] = t_inner.ppf(cube[3])\n",
    "    return params\n",
    "\n",
    "# Create DataFrame\n",
    "data = {}\n",
    "for param in param_names:\n",
    "    data[param] = []\n",
    "    data[param + '_u'] = []\n",
    "\n",
    "for i in range(n):\n",
    "    cube = np.random.rand(len(param_names))\n",
    "    params = my_prior_transform(cube)\n",
    "    for i, value in enumerate(params):\n",
    "        param = param_names[i]\n",
    "        data[param].append(value)\n",
    "        data[param + '_u'].append(cube[i])\n",
    "\n",
    "df = pd.DataFrame(data)\n",
    "df.index.name = 'index'\n",
    "df.to_csv(output_name)"
   ]
  }
 ],
 "metadata": {
  "kernelspec": {
   "display_name": "tardis",
   "language": "python",
   "name": "python3"
  },
  "language_info": {
   "codemirror_mode": {
    "name": "ipython",
    "version": 3
   },
   "file_extension": ".py",
   "mimetype": "text/x-python",
   "name": "python",
   "nbconvert_exporter": "python",
   "pygments_lexer": "ipython3",
   "version": "3.13.3"
  }
 },
 "nbformat": 4,
 "nbformat_minor": 5
}
